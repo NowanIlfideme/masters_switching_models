{
 "cells": [
  {
   "cell_type": "markdown",
   "metadata": {},
   "source": [
    "# Implementing VAR in PyMC3"
   ]
  },
  {
   "cell_type": "code",
   "execution_count": 1,
   "metadata": {},
   "outputs": [],
   "source": [
    "import numpy as np\n",
    "import pandas as pd\n",
    "import xarray as xr"
   ]
  },
  {
   "cell_type": "code",
   "execution_count": 2,
   "metadata": {},
   "outputs": [],
   "source": [
    "import pymc3 as pm\n",
    "import theano.tensor as tt"
   ]
  },
  {
   "cell_type": "code",
   "execution_count": 3,
   "metadata": {},
   "outputs": [],
   "source": [
    "import matplotlib.pyplot as plt\n",
    "import arviz as az"
   ]
  },
  {
   "cell_type": "code",
   "execution_count": 4,
   "metadata": {},
   "outputs": [],
   "source": [
    "import pymc3.distributions.transforms as tr"
   ]
  },
  {
   "cell_type": "markdown",
   "metadata": {},
   "source": [
    "# Generate VAR"
   ]
  },
  {
   "cell_type": "code",
   "execution_count": 5,
   "metadata": {},
   "outputs": [],
   "source": [
    "from regime_switching.generate import chain, ar"
   ]
  },
  {
   "cell_type": "code",
   "execution_count": 6,
   "metadata": {},
   "outputs": [],
   "source": [
    "T = 100\n",
    "n_endog = 2\n",
    "n_lag_endog = 1\n",
    "\n",
    "# n_exog = 0"
   ]
  },
  {
   "cell_type": "code",
   "execution_count": 7,
   "metadata": {},
   "outputs": [
    {
     "data": {
      "text/plain": [
       "VARXGenerator with params:\n",
       "  <xarray.Dataset>\n",
       "  Dimensions:          (endog: 2, exog: 0, lag_endog: 1, lag_exog: 0, target: 2)\n",
       "  Coordinates:\n",
       "    * lag_exog         (lag_exog) int64 \n",
       "    * lag_endog        (lag_endog) int64 1\n",
       "    * endog            (endog) int64 0 1\n",
       "    * target           (target) int64 0 1\n",
       "    * exog             (exog) int64 \n",
       "  Data variables:\n",
       "      coef_ar          (target, endog, lag_endog) float64 0.2432 0.1173 ... 0.3575\n",
       "      coef_exog        (target, exog, lag_exog) float64 \n",
       "      coef_covariance  (target, endog) float64 0.4491 0.6987 0.6987 1.297\n",
       "      coef_const       (target) float64 -0.2413 -0.8347"
      ]
     },
     "execution_count": 7,
     "metadata": {},
     "output_type": "execute_result"
    }
   ],
   "source": [
    "vg = ar.VARXGenerator.get_random_instance(endog=n_endog, lag_endog=n_lag_endog)\n",
    "vg"
   ]
  },
  {
   "cell_type": "code",
   "execution_count": 8,
   "metadata": {},
   "outputs": [
    {
     "data": {
      "text/html": [
       "<div><svg style=\"position: absolute; width: 0; height: 0; overflow: hidden\">\n",
       "<defs>\n",
       "<symbol id=\"icon-database\" viewBox=\"0 0 32 32\">\n",
       "<title>Show/Hide data repr</title>\n",
       "<path d=\"M16 0c-8.837 0-16 2.239-16 5v4c0 2.761 7.163 5 16 5s16-2.239 16-5v-4c0-2.761-7.163-5-16-5z\"></path>\n",
       "<path d=\"M16 17c-8.837 0-16-2.239-16-5v6c0 2.761 7.163 5 16 5s16-2.239 16-5v-6c0 2.761-7.163 5-16 5z\"></path>\n",
       "<path d=\"M16 26c-8.837 0-16-2.239-16-5v6c0 2.761 7.163 5 16 5s16-2.239 16-5v-6c0 2.761-7.163 5-16 5z\"></path>\n",
       "</symbol>\n",
       "<symbol id=\"icon-file-text2\" viewBox=\"0 0 32 32\">\n",
       "<title>Show/Hide attributes</title>\n",
       "<path d=\"M28.681 7.159c-0.694-0.947-1.662-2.053-2.724-3.116s-2.169-2.030-3.116-2.724c-1.612-1.182-2.393-1.319-2.841-1.319h-15.5c-1.378 0-2.5 1.121-2.5 2.5v27c0 1.378 1.122 2.5 2.5 2.5h23c1.378 0 2.5-1.122 2.5-2.5v-19.5c0-0.448-0.137-1.23-1.319-2.841zM24.543 5.457c0.959 0.959 1.712 1.825 2.268 2.543h-4.811v-4.811c0.718 0.556 1.584 1.309 2.543 2.268zM28 29.5c0 0.271-0.229 0.5-0.5 0.5h-23c-0.271 0-0.5-0.229-0.5-0.5v-27c0-0.271 0.229-0.5 0.5-0.5 0 0 15.499-0 15.5 0v7c0 0.552 0.448 1 1 1h7v19.5z\"></path>\n",
       "<path d=\"M23 26h-14c-0.552 0-1-0.448-1-1s0.448-1 1-1h14c0.552 0 1 0.448 1 1s-0.448 1-1 1z\"></path>\n",
       "<path d=\"M23 22h-14c-0.552 0-1-0.448-1-1s0.448-1 1-1h14c0.552 0 1 0.448 1 1s-0.448 1-1 1z\"></path>\n",
       "<path d=\"M23 18h-14c-0.552 0-1-0.448-1-1s0.448-1 1-1h14c0.552 0 1 0.448 1 1s-0.448 1-1 1z\"></path>\n",
       "</symbol>\n",
       "</defs>\n",
       "</svg>\n",
       "<style>/* CSS stylesheet for displaying xarray objects in jupyterlab.\n",
       " *\n",
       " */\n",
       "\n",
       ":root {\n",
       "  --xr-font-color0: var(--jp-content-font-color0, rgba(0, 0, 0, 1));\n",
       "  --xr-font-color2: var(--jp-content-font-color2, rgba(0, 0, 0, 0.54));\n",
       "  --xr-font-color3: var(--jp-content-font-color3, rgba(0, 0, 0, 0.38));\n",
       "  --xr-border-color: var(--jp-border-color2, #e0e0e0);\n",
       "  --xr-disabled-color: var(--jp-layout-color3, #bdbdbd);\n",
       "  --xr-background-color: var(--jp-layout-color0, white);\n",
       "  --xr-background-color-row-even: var(--jp-layout-color1, white);\n",
       "  --xr-background-color-row-odd: var(--jp-layout-color2, #eeeeee);\n",
       "}\n",
       "\n",
       ".xr-wrap {\n",
       "  min-width: 300px;\n",
       "  max-width: 700px;\n",
       "}\n",
       "\n",
       ".xr-header {\n",
       "  padding-top: 6px;\n",
       "  padding-bottom: 6px;\n",
       "  margin-bottom: 4px;\n",
       "  border-bottom: solid 1px var(--xr-border-color);\n",
       "}\n",
       "\n",
       ".xr-header > div,\n",
       ".xr-header > ul {\n",
       "  display: inline;\n",
       "  margin-top: 0;\n",
       "  margin-bottom: 0;\n",
       "}\n",
       "\n",
       ".xr-obj-type,\n",
       ".xr-array-name {\n",
       "  margin-left: 2px;\n",
       "  margin-right: 10px;\n",
       "}\n",
       "\n",
       ".xr-obj-type {\n",
       "  color: var(--xr-font-color2);\n",
       "}\n",
       "\n",
       ".xr-sections {\n",
       "  padding-left: 0 !important;\n",
       "  display: grid;\n",
       "  grid-template-columns: 150px auto auto 1fr 20px 20px;\n",
       "}\n",
       "\n",
       ".xr-section-item {\n",
       "  display: contents;\n",
       "}\n",
       "\n",
       ".xr-section-item input {\n",
       "  display: none;\n",
       "}\n",
       "\n",
       ".xr-section-item input + label {\n",
       "  color: var(--xr-disabled-color);\n",
       "}\n",
       "\n",
       ".xr-section-item input:enabled + label {\n",
       "  cursor: pointer;\n",
       "  color: var(--xr-font-color2);\n",
       "}\n",
       "\n",
       ".xr-section-item input:enabled + label:hover {\n",
       "  color: var(--xr-font-color0);\n",
       "}\n",
       "\n",
       ".xr-section-summary {\n",
       "  grid-column: 1;\n",
       "  color: var(--xr-font-color2);\n",
       "  font-weight: 500;\n",
       "}\n",
       "\n",
       ".xr-section-summary > span {\n",
       "  display: inline-block;\n",
       "  padding-left: 0.5em;\n",
       "}\n",
       "\n",
       ".xr-section-summary-in:disabled + label {\n",
       "  color: var(--xr-font-color2);\n",
       "}\n",
       "\n",
       ".xr-section-summary-in + label:before {\n",
       "  display: inline-block;\n",
       "  content: '►';\n",
       "  font-size: 11px;\n",
       "  width: 15px;\n",
       "  text-align: center;\n",
       "}\n",
       "\n",
       ".xr-section-summary-in:disabled + label:before {\n",
       "  color: var(--xr-disabled-color);\n",
       "}\n",
       "\n",
       ".xr-section-summary-in:checked + label:before {\n",
       "  content: '▼';\n",
       "}\n",
       "\n",
       ".xr-section-summary-in:checked + label > span {\n",
       "  display: none;\n",
       "}\n",
       "\n",
       ".xr-section-summary,\n",
       ".xr-section-inline-details {\n",
       "  padding-top: 4px;\n",
       "  padding-bottom: 4px;\n",
       "}\n",
       "\n",
       ".xr-section-inline-details {\n",
       "  grid-column: 2 / -1;\n",
       "}\n",
       "\n",
       ".xr-section-details {\n",
       "  display: none;\n",
       "  grid-column: 1 / -1;\n",
       "  margin-bottom: 5px;\n",
       "}\n",
       "\n",
       ".xr-section-summary-in:checked ~ .xr-section-details {\n",
       "  display: contents;\n",
       "}\n",
       "\n",
       ".xr-array-wrap {\n",
       "  grid-column: 1 / -1;\n",
       "  display: grid;\n",
       "  grid-template-columns: 20px auto;\n",
       "}\n",
       "\n",
       ".xr-array-wrap > label {\n",
       "  grid-column: 1;\n",
       "  vertical-align: top;\n",
       "}\n",
       "\n",
       ".xr-preview {\n",
       "  color: var(--xr-font-color3);\n",
       "}\n",
       "\n",
       ".xr-array-preview,\n",
       ".xr-array-data {\n",
       "  padding: 0 5px !important;\n",
       "  grid-column: 2;\n",
       "}\n",
       "\n",
       ".xr-array-data,\n",
       ".xr-array-in:checked ~ .xr-array-preview {\n",
       "  display: none;\n",
       "}\n",
       "\n",
       ".xr-array-in:checked ~ .xr-array-data,\n",
       ".xr-array-preview {\n",
       "  display: inline-block;\n",
       "}\n",
       "\n",
       ".xr-dim-list {\n",
       "  display: inline-block !important;\n",
       "  list-style: none;\n",
       "  padding: 0 !important;\n",
       "  margin: 0;\n",
       "}\n",
       "\n",
       ".xr-dim-list li {\n",
       "  display: inline-block;\n",
       "  padding: 0;\n",
       "  margin: 0;\n",
       "}\n",
       "\n",
       ".xr-dim-list:before {\n",
       "  content: '(';\n",
       "}\n",
       "\n",
       ".xr-dim-list:after {\n",
       "  content: ')';\n",
       "}\n",
       "\n",
       ".xr-dim-list li:not(:last-child):after {\n",
       "  content: ',';\n",
       "  padding-right: 5px;\n",
       "}\n",
       "\n",
       ".xr-has-index {\n",
       "  font-weight: bold;\n",
       "}\n",
       "\n",
       ".xr-var-list,\n",
       ".xr-var-item {\n",
       "  display: contents;\n",
       "}\n",
       "\n",
       ".xr-var-item > div,\n",
       ".xr-var-item label,\n",
       ".xr-var-item > .xr-var-name span {\n",
       "  background-color: var(--xr-background-color-row-even);\n",
       "  margin-bottom: 0;\n",
       "}\n",
       "\n",
       ".xr-var-item > .xr-var-name:hover span {\n",
       "  padding-right: 5px;\n",
       "}\n",
       "\n",
       ".xr-var-list > li:nth-child(odd) > div,\n",
       ".xr-var-list > li:nth-child(odd) > label,\n",
       ".xr-var-list > li:nth-child(odd) > .xr-var-name span {\n",
       "  background-color: var(--xr-background-color-row-odd);\n",
       "}\n",
       "\n",
       ".xr-var-name {\n",
       "  grid-column: 1;\n",
       "}\n",
       "\n",
       ".xr-var-dims {\n",
       "  grid-column: 2;\n",
       "}\n",
       "\n",
       ".xr-var-dtype {\n",
       "  grid-column: 3;\n",
       "  text-align: right;\n",
       "  color: var(--xr-font-color2);\n",
       "}\n",
       "\n",
       ".xr-var-preview {\n",
       "  grid-column: 4;\n",
       "}\n",
       "\n",
       ".xr-var-name,\n",
       ".xr-var-dims,\n",
       ".xr-var-dtype,\n",
       ".xr-preview,\n",
       ".xr-attrs dt {\n",
       "  white-space: nowrap;\n",
       "  overflow: hidden;\n",
       "  text-overflow: ellipsis;\n",
       "  padding-right: 10px;\n",
       "}\n",
       "\n",
       ".xr-var-name:hover,\n",
       ".xr-var-dims:hover,\n",
       ".xr-var-dtype:hover,\n",
       ".xr-attrs dt:hover {\n",
       "  overflow: visible;\n",
       "  width: auto;\n",
       "  z-index: 1;\n",
       "}\n",
       "\n",
       ".xr-var-attrs,\n",
       ".xr-var-data {\n",
       "  display: none;\n",
       "  background-color: var(--xr-background-color) !important;\n",
       "  padding-bottom: 5px !important;\n",
       "}\n",
       "\n",
       ".xr-var-attrs-in:checked ~ .xr-var-attrs,\n",
       ".xr-var-data-in:checked ~ .xr-var-data {\n",
       "  display: block;\n",
       "}\n",
       "\n",
       ".xr-var-data > table {\n",
       "  float: right;\n",
       "}\n",
       "\n",
       ".xr-var-name span,\n",
       ".xr-var-data,\n",
       ".xr-attrs {\n",
       "  padding-left: 25px !important;\n",
       "}\n",
       "\n",
       ".xr-attrs,\n",
       ".xr-var-attrs,\n",
       ".xr-var-data {\n",
       "  grid-column: 1 / -1;\n",
       "}\n",
       "\n",
       "dl.xr-attrs {\n",
       "  padding: 0;\n",
       "  margin: 0;\n",
       "  display: grid;\n",
       "  grid-template-columns: 125px auto;\n",
       "}\n",
       "\n",
       ".xr-attrs dt, dd {\n",
       "  padding: 0;\n",
       "  margin: 0;\n",
       "  float: left;\n",
       "  padding-right: 10px;\n",
       "  width: auto;\n",
       "}\n",
       "\n",
       ".xr-attrs dt {\n",
       "  font-weight: normal;\n",
       "  grid-column: 1;\n",
       "}\n",
       "\n",
       ".xr-attrs dt:hover span {\n",
       "  display: inline-block;\n",
       "  background: var(--xr-background-color);\n",
       "  padding-right: 10px;\n",
       "}\n",
       "\n",
       ".xr-attrs dd {\n",
       "  grid-column: 2;\n",
       "  white-space: pre-wrap;\n",
       "  word-break: break-all;\n",
       "}\n",
       "\n",
       ".xr-icon-database,\n",
       ".xr-icon-file-text2 {\n",
       "  display: inline-block;\n",
       "  vertical-align: middle;\n",
       "  width: 1em;\n",
       "  height: 1.5em !important;\n",
       "  stroke-width: 0;\n",
       "  stroke: currentColor;\n",
       "  fill: currentColor;\n",
       "}\n",
       "</style><div class='xr-wrap'><div class='xr-header'><div class='xr-obj-type'>xarray.Dataset</div></div><ul class='xr-sections'><li class='xr-section-item'><input id='section-7a3cef41-9885-400b-82e6-e2da3edd0771' class='xr-section-summary-in' type='checkbox' disabled ><label for='section-7a3cef41-9885-400b-82e6-e2da3edd0771' class='xr-section-summary'  title='Expand/collapse section'>Dimensions:</label><div class='xr-section-inline-details'><ul class='xr-dim-list'><li><span class='xr-has-index'>target</span>: 2</li><li><span class='xr-has-index'>time</span>: 100</li></ul></div><div class='xr-section-details'></div></li><li class='xr-section-item'><input id='section-f07578a1-fd00-4a66-82ba-32c7c1660d72' class='xr-section-summary-in' type='checkbox'  checked><label for='section-f07578a1-fd00-4a66-82ba-32c7c1660d72' class='xr-section-summary' >Coordinates: <span>(2)</span></label><div class='xr-section-inline-details'></div><div class='xr-section-details'><ul class='xr-var-list'><li class='xr-var-item'><div class='xr-var-name'><span class='xr-has-index'>time</span></div><div class='xr-var-dims'>(time)</div><div class='xr-var-dtype'>int64</div><div class='xr-var-preview xr-preview'>0 1 2 3 4 5 6 ... 94 95 96 97 98 99</div><input id='attrs-ad11565b-658c-4519-8f1b-617725a7cc63' class='xr-var-attrs-in' type='checkbox' disabled><label for='attrs-ad11565b-658c-4519-8f1b-617725a7cc63' title='Show/Hide attributes'><svg class='icon xr-icon-file-text2'><use xlink:href='#icon-file-text2'></use></svg></label><input id='data-d1343df6-b817-4d35-876c-c7f15faf36ee' class='xr-var-data-in' type='checkbox'><label for='data-d1343df6-b817-4d35-876c-c7f15faf36ee' title='Show/Hide data repr'><svg class='icon xr-icon-database'><use xlink:href='#icon-database'></use></svg></label><div class='xr-var-attrs'><dl class='xr-attrs'></dl></div><pre class='xr-var-data'>array([ 0,  1,  2,  3,  4,  5,  6,  7,  8,  9, 10, 11, 12, 13, 14, 15, 16, 17,\n",
       "       18, 19, 20, 21, 22, 23, 24, 25, 26, 27, 28, 29, 30, 31, 32, 33, 34, 35,\n",
       "       36, 37, 38, 39, 40, 41, 42, 43, 44, 45, 46, 47, 48, 49, 50, 51, 52, 53,\n",
       "       54, 55, 56, 57, 58, 59, 60, 61, 62, 63, 64, 65, 66, 67, 68, 69, 70, 71,\n",
       "       72, 73, 74, 75, 76, 77, 78, 79, 80, 81, 82, 83, 84, 85, 86, 87, 88, 89,\n",
       "       90, 91, 92, 93, 94, 95, 96, 97, 98, 99])</pre></li><li class='xr-var-item'><div class='xr-var-name'><span class='xr-has-index'>target</span></div><div class='xr-var-dims'>(target)</div><div class='xr-var-dtype'>int64</div><div class='xr-var-preview xr-preview'>0 1</div><input id='attrs-ef57e5c5-c838-40cc-bd1b-13a682dbc30b' class='xr-var-attrs-in' type='checkbox' disabled><label for='attrs-ef57e5c5-c838-40cc-bd1b-13a682dbc30b' title='Show/Hide attributes'><svg class='icon xr-icon-file-text2'><use xlink:href='#icon-file-text2'></use></svg></label><input id='data-f3fe00e8-3e79-4b40-9691-ffb77fd36923' class='xr-var-data-in' type='checkbox'><label for='data-f3fe00e8-3e79-4b40-9691-ffb77fd36923' title='Show/Hide data repr'><svg class='icon xr-icon-database'><use xlink:href='#icon-database'></use></svg></label><div class='xr-var-attrs'><dl class='xr-attrs'></dl></div><pre class='xr-var-data'>array([0, 1])</pre></li></ul></div></li><li class='xr-section-item'><input id='section-727ab9a2-83c3-4d83-bb0b-737f2f624c44' class='xr-section-summary-in' type='checkbox'  checked><label for='section-727ab9a2-83c3-4d83-bb0b-737f2f624c44' class='xr-section-summary' >Data variables: <span>(1)</span></label><div class='xr-section-inline-details'></div><div class='xr-section-details'><ul class='xr-var-list'><li class='xr-var-item'><div class='xr-var-name'><span>output</span></div><div class='xr-var-dims'>(time, target)</div><div class='xr-var-dtype'>float64</div><div class='xr-var-preview xr-preview'>-0.6889 -1.668 ... -0.6584 -1.543</div><input id='attrs-22e90bb1-a21c-4a82-b92c-2c2d864b6430' class='xr-var-attrs-in' type='checkbox' disabled><label for='attrs-22e90bb1-a21c-4a82-b92c-2c2d864b6430' title='Show/Hide attributes'><svg class='icon xr-icon-file-text2'><use xlink:href='#icon-file-text2'></use></svg></label><input id='data-efa9eb48-6abd-42ed-b95e-6e8fc63b61cf' class='xr-var-data-in' type='checkbox'><label for='data-efa9eb48-6abd-42ed-b95e-6e8fc63b61cf' title='Show/Hide data repr'><svg class='icon xr-icon-database'><use xlink:href='#icon-database'></use></svg></label><div class='xr-var-attrs'><dl class='xr-attrs'></dl></div><pre class='xr-var-data'>array([[-0.68886568, -1.66812436],\n",
       "       [-0.47633319, -0.87497412],\n",
       "       [-0.96225666, -2.03678978],\n",
       "       [-0.85746561, -1.82029974],\n",
       "       [-0.57449548, -0.94388456],\n",
       "       [ 0.54120769,  1.04177101],\n",
       "       [-0.28808519, -1.48931557],\n",
       "       [-0.86216916, -1.13411808],\n",
       "       [-0.31125047, -0.58427478],\n",
       "       [-0.18710824,  0.20165387],\n",
       "       [-0.11232842, -0.38605   ],\n",
       "       [ 0.94996397,  1.26396827],\n",
       "       [ 0.83849015,  1.12930993],\n",
       "       [ 0.69672889, -0.21544285],\n",
       "       [-0.78691188, -2.24727443],\n",
       "       [-0.79618476, -1.70987081],\n",
       "       [-0.19557998, -0.40588733],\n",
       "       [-0.87928412, -2.02252832],\n",
       "       [-1.43512966, -3.14103128],\n",
       "       [-0.69297235, -1.67320399],\n",
       "       [-0.05101559, -0.65930864],\n",
       "       [ 0.28904654, -0.86677017],\n",
       "       [-0.09696433, -0.67852189],\n",
       "       [ 0.26993876, -0.21629647],\n",
       "       [-0.10242504, -0.10720484],\n",
       "       [ 0.3618165 ,  0.66206123],\n",
       "       [-0.96194018, -2.21281475],\n",
       "       [-0.96610224, -1.96706197],\n",
       "       [-0.59688377, -0.58614228],\n",
       "       [-0.5966235 , -0.74138977],\n",
       "       [-1.10892829, -1.78975122],\n",
       "       [-1.33371689, -1.90633316],\n",
       "       [-0.65114137, -0.81805833],\n",
       "       [ 1.33529888,  1.58596192],\n",
       "       [-0.46444093, -1.69696931],\n",
       "       [-1.3893792 , -2.35123516],\n",
       "       [-0.44326562, -1.33954984],\n",
       "       [-0.65285546, -1.11240822],\n",
       "       [-0.81027198, -1.50849793],\n",
       "       [-1.75499412, -2.12232278],\n",
       "       [-1.4211645 , -2.6596103 ],\n",
       "       [-0.39082435, -1.11476928],\n",
       "       [-1.73258583, -3.46185903],\n",
       "       [-0.4694441 , -0.27804653],\n",
       "       [-0.80730581, -1.54022744],\n",
       "       [-1.43631085, -2.11956643],\n",
       "       [-0.34177492,  0.26319776],\n",
       "       [-0.76089218, -1.78753998],\n",
       "       [-0.83293335, -1.77958429],\n",
       "       [ 0.60657874,  0.68636919],\n",
       "       [ 0.52706954, -0.15707733],\n",
       "       [-0.31736626, -1.12113548],\n",
       "       [ 0.20588094, -0.67755689],\n",
       "       [-1.11022768, -2.15821493],\n",
       "       [-0.42042313, -1.34455683],\n",
       "       [-1.05835921, -2.27116759],\n",
       "       [-0.67702435, -1.36908552],\n",
       "       [-0.38965888, -0.63258472],\n",
       "       [-0.8947516 , -1.47972891],\n",
       "       [-1.10599201, -2.5748077 ],\n",
       "       [-0.71072842, -0.63718488],\n",
       "       [-1.13403391, -1.32671643],\n",
       "       [-0.03940543,  0.4790664 ],\n",
       "       [-0.35344826, -1.01470475],\n",
       "       [ 0.03266306, -0.90480366],\n",
       "       [-0.36134211, -1.44423402],\n",
       "       [-1.27225863, -2.37317299],\n",
       "       [-1.37618368, -1.41873608],\n",
       "       [-1.24120259, -1.76659532],\n",
       "       [-0.73050427, -1.51234608],\n",
       "       [ 0.51574128, -0.27630832],\n",
       "       [ 0.49139244, -0.30089451],\n",
       "       [ 0.45398776,  0.35980769],\n",
       "       [ 0.39114998, -0.14390069],\n",
       "       [-0.46051272, -1.57940633],\n",
       "       [-0.78739941, -1.94261619],\n",
       "       [-0.40186333, -1.29373176],\n",
       "       [-0.17984928, -0.81965271],\n",
       "       [-1.03928748, -2.66275782],\n",
       "       [-0.15643914, -0.0129452 ],\n",
       "       [ 0.27027786, -0.02400742],\n",
       "       [ 0.0148584 , -0.4470292 ],\n",
       "       [-1.18222647, -2.6452604 ],\n",
       "       [-1.48986483, -2.97624955],\n",
       "       [-0.21522606, -0.57375408],\n",
       "       [ 0.27596074,  0.20357471],\n",
       "       [ 0.22673776, -0.18364614],\n",
       "       [-0.25500931, -0.81090218],\n",
       "       [-1.79273128, -3.19645755],\n",
       "       [-1.15768466, -1.87588422],\n",
       "       [ 0.17219509, -0.00609336],\n",
       "       [-0.8564003 , -1.67463666],\n",
       "       [-1.38573768, -2.31783538],\n",
       "       [-0.03514432, -0.21129886],\n",
       "       [ 0.35583671, -0.0387015 ],\n",
       "       [ 0.52850086, -0.12120968],\n",
       "       [-0.63345976, -2.25364436],\n",
       "       [ 0.87844912,  1.12973437],\n",
       "       [-0.19975284, -0.53146452],\n",
       "       [-0.65837443, -1.54334296]])</pre></li></ul></div></li><li class='xr-section-item'><input id='section-8c2ee6a4-7fc7-47d4-aadd-c832c33fae69' class='xr-section-summary-in' type='checkbox' disabled ><label for='section-8c2ee6a4-7fc7-47d4-aadd-c832c33fae69' class='xr-section-summary'  title='Expand/collapse section'>Attributes: <span>(0)</span></label><div class='xr-section-inline-details'></div><div class='xr-section-details'><dl class='xr-attrs'></dl></div></li></ul></div></div>"
      ],
      "text/plain": [
       "<xarray.Dataset>\n",
       "Dimensions:  (target: 2, time: 100)\n",
       "Coordinates:\n",
       "  * time     (time) int64 0 1 2 3 4 5 6 7 8 9 ... 90 91 92 93 94 95 96 97 98 99\n",
       "  * target   (target) int64 0 1\n",
       "Data variables:\n",
       "    output   (time, target) float64 -0.6889 -1.668 -0.4763 ... -0.6584 -1.543"
      ]
     },
     "execution_count": 8,
     "metadata": {},
     "output_type": "execute_result"
    }
   ],
   "source": [
    "data = vg.generate(T)\n",
    "data"
   ]
  },
  {
   "cell_type": "markdown",
   "metadata": {},
   "source": [
    "# Internals of `logp`"
   ]
  },
  {
   "cell_type": "markdown",
   "metadata": {},
   "source": [
    "## Coefficient shapes"
   ]
  },
  {
   "cell_type": "code",
   "execution_count": 9,
   "metadata": {},
   "outputs": [
    {
     "name": "stdout",
     "output_type": "stream",
     "text": [
      "const: [2] == (2,) \n",
      "ar: [2 2 1] == (2, 2, 1) \n",
      "cov: [2 2] == (2, 2) \n",
      "init: [1 2] == (1, 2)\n"
     ]
    }
   ],
   "source": [
    "# Using ACTUAL parameter values here, but shapes will be same for pymc3 params\n",
    "\n",
    "t_const = tt.as_tensor(vg.coef_const.values)\n",
    "t_ar = tt.as_tensor(vg.coef_ar.values)\n",
    "t_cov = tt.as_tensor(vg.coef_covariance.values)\n",
    "\n",
    "# NOTE: Initial values not currently set in VARXGenerator\n",
    "t_init = tt.as_tensor(np.full(shape=(n_lag_endog, n_endog), fill_value=0))\n",
    "\n",
    "print(\n",
    "    \"const:\", t_const.shape.eval(), \"==\", (n_endog,),\n",
    "    \"\\nar:\", t_ar.shape.eval(), \"==\", (n_endog, n_endog, n_lag_endog),\n",
    "    \"\\ncov:\", t_cov.shape.eval(), \"==\", (n_endog, n_endog),\n",
    "    \"\\ninit:\", t_init.shape.eval(), \"==\", (n_lag_endog, n_endog),\n",
    ")"
   ]
  },
  {
   "cell_type": "markdown",
   "metadata": {},
   "source": [
    "## Pad the data"
   ]
  },
  {
   "cell_type": "code",
   "execution_count": 10,
   "metadata": {},
   "outputs": [
    {
     "name": "stdout",
     "output_type": "stream",
     "text": [
      "data: [100   2] == (100, 2) \n",
      "padded: [101   2] == (101, 2)\n"
     ]
    }
   ],
   "source": [
    "t_data = tt.as_tensor(data['output'].values)\n",
    "t_data_pre = tt.concatenate([t_init, t_data], axis=0)\n",
    "print(\n",
    "    \"data:\", t_data.shape.eval(), \"==\", (T, n_endog),\n",
    "    \"\\npadded:\", t_data_pre.shape.eval(), \"==\", (n_lag_endog + T, n_endog)\n",
    ")"
   ]
  },
  {
   "cell_type": "markdown",
   "metadata": {},
   "source": [
    "## Get expected mean"
   ]
  },
  {
   "cell_type": "code",
   "execution_count": 11,
   "metadata": {},
   "outputs": [
    {
     "data": {
      "text/plain": [
       "array([100,   2])"
      ]
     },
     "execution_count": 11,
     "metadata": {},
     "output_type": "execute_result"
    }
   ],
   "source": [
    "# Sum up total AR effect\n",
    "effect_ar = []\n",
    "for i in range(n_lag_endog):\n",
    "    # lag is i+1\n",
    "    _start = n_lag_endog - (i + 1)\n",
    "    _end = -(i + 1)\n",
    "    q = tt.dot(t_data_pre[_start:_end, :], t_ar[:, :, i])\n",
    "    effect_ar.append(q)\n",
    "effect_ar = tt.add(*effect_ar)\n",
    "effect_ar.shape.eval()  # == (T, n_endog)"
   ]
  },
  {
   "cell_type": "code",
   "execution_count": 12,
   "metadata": {},
   "outputs": [
    {
     "data": {
      "text/plain": [
       "array([100,   2])"
      ]
     },
     "execution_count": 12,
     "metadata": {},
     "output_type": "execute_result"
    }
   ],
   "source": [
    "expected_mean = effect_ar + t_const[None, :]\n",
    "errors = t_data - expected_mean\n",
    "errors.shape.eval()  # == (T, n_endog)"
   ]
  },
  {
   "cell_type": "markdown",
   "metadata": {},
   "source": [
    "## Find likelihood"
   ]
  },
  {
   "cell_type": "code",
   "execution_count": 13,
   "metadata": {},
   "outputs": [
    {
     "data": {
      "text/plain": [
       "array([100])"
      ]
     },
     "execution_count": 13,
     "metadata": {},
     "output_type": "execute_result"
    }
   ],
   "source": [
    "dist_innov = pm.MvNormal.dist(mu=0, **{\"cov\": t_cov})\n",
    "\n",
    "like_innov = dist_innov.logp(errors)\n",
    "like_innov.shape.eval()  # == (T, )"
   ]
  },
  {
   "cell_type": "code",
   "execution_count": 14,
   "metadata": {},
   "outputs": [
    {
     "data": {
      "text/plain": [
       "array([1, 2])"
      ]
     },
     "execution_count": 14,
     "metadata": {},
     "output_type": "execute_result"
    }
   ],
   "source": [
    "dist_init = pm.Flat.dist()\n",
    "# dist_init = pm.Normal.dist(mu=0, sigma=10, shape=[2])\n",
    "\n",
    "like_init = dist_init.logp(t_init)  # == (n_lag_endog, n_endog)?\n",
    "like_init.shape.eval()  # == (n_lag_endog, n_endog) ?"
   ]
  },
  {
   "cell_type": "code",
   "execution_count": 15,
   "metadata": {},
   "outputs": [
    {
     "data": {
      "text/plain": [
       "array([], dtype=int64)"
      ]
     },
     "execution_count": 15,
     "metadata": {},
     "output_type": "execute_result"
    }
   ],
   "source": [
    "like_total = tt.sum(like_init) + tt.sum(like_innov)\n",
    "like_total.shape.eval()  # == tuple()"
   ]
  },
  {
   "cell_type": "markdown",
   "metadata": {},
   "source": [
    "# Create class"
   ]
  },
  {
   "cell_type": "code",
   "execution_count": 16,
   "metadata": {},
   "outputs": [],
   "source": [
    "# pm.distributions.continuous.get_tau_sigma"
   ]
  },
  {
   "cell_type": "code",
   "execution_count": 17,
   "metadata": {},
   "outputs": [
    {
     "name": "stdout",
     "output_type": "stream",
     "text": [
      "const: [2] == (2,) \n",
      "ar: [2 2 1] == (2, 2, 1) \n",
      "cov: [2 2] == (2, 2) \n",
      "init: [1 2] == (1, 2)\n"
     ]
    }
   ],
   "source": [
    "# Using ACTUAL parameter values here, but shapes will be same for pymc3 params\n",
    "\n",
    "t_const = tt.as_tensor(vg.coef_const.values)\n",
    "t_ar = tt.as_tensor(vg.coef_ar.values)\n",
    "t_cov = tt.as_tensor(vg.coef_covariance.values)\n",
    "\n",
    "# NOTE: Initial values not currently set in VARXGenerator\n",
    "t_init = tt.as_tensor(np.full(shape=(n_lag_endog, n_endog), fill_value=0))\n",
    "\n",
    "print(\n",
    "    \"const:\", t_const.shape.eval(), \"==\", (n_endog,),\n",
    "    \"\\nar:\", t_ar.shape.eval(), \"==\", (n_endog, n_endog, n_lag_endog),\n",
    "    \"\\ncov:\", t_cov.shape.eval(), \"==\", (n_endog, n_endog),\n",
    "    \"\\ninit:\", t_init.shape.eval(), \"==\", (n_lag_endog, n_endog),\n",
    ")"
   ]
  },
  {
   "cell_type": "code",
   "execution_count": null,
   "metadata": {},
   "outputs": [],
   "source": []
  },
  {
   "cell_type": "code",
   "execution_count": 18,
   "metadata": {},
   "outputs": [],
   "source": [
    "class VAR(pm.Continuous):\n",
    "    \n",
    "    def __init__(self, n_endog, n_lag_endog, cov=None, tau=None, chol=None, lower=True, *args, **kwargs):\n",
    "        super().__init__(*args, **kwargs)\n",
    "        self.n_endog = int(n_endog)\n",
    "        self.n_lag_endog = int(n_lag_endog)\n",
    "        \n",
    "        self.t_const = tt.as_tensor_variable(t_const)  # TEMP\n",
    "        self.t_ar = tt.as_tensor_variable(t_ar)  # TEMP\n",
    "        # self.t_cov = tt.as_tensor_variable(t_cov)  # TEMP\n",
    "        self.cov_args = dict(cov=cov, tau=tau, chol=chol, lower=lower)\n",
    "        \n",
    "        self.t_init = t_init  # tt.as_tensor_variable(t_init)  # TEMP\n",
    "        \n",
    "        self.dist_init = pm.Flat.dist()\n",
    "        # dist_init = pm.Normal.dist(mu=0, sigma=10, shape=[2])\n",
    "        \n",
    "        # Test value\n",
    "        self.mean = tt.as_tensor_variable(np.zeros(shape=(n_endog,)))\n",
    "        \n",
    "    def logp(self, value: tt.Tensor) -> tt.TensorVariable:\n",
    "        \"\"\"f\"\"\"\n",
    "        \n",
    "        # Prepend initial values\n",
    "        t_data = tt.as_tensor(value)\n",
    "        try:\n",
    "            t_data_pre = tt.concatenate([self.t_init, t_data], axis=0)\n",
    "        except Exception:\n",
    "            t_data_pre = self.t_init\n",
    "        \n",
    "        # Sum up total AR effect\n",
    "        effect_ar = []\n",
    "        for i in range(n_lag_endog):\n",
    "            # lag is i+1\n",
    "            _start = n_lag_endog - (i + 1)\n",
    "            _end = -(i + 1)\n",
    "            q = tt.dot(t_data_pre[_start:_end, :], t_ar[:, :, i])\n",
    "            effect_ar.append(q)\n",
    "        effect_ar = tt.add(*effect_ar)\n",
    "        # effect_ar.shape.eval()  # == (T, n_endog)\n",
    "        \n",
    "        # Add constant to get errors\n",
    "        expected_mean = effect_ar + t_const[None, :]\n",
    "        errors = t_data - expected_mean\n",
    "        # errors.shape.eval()  # == (T, n_endog)\n",
    "        \n",
    "        # Get likelihoods\n",
    "        dist_innov = pm.MvNormal.dist(mu=0, **self.cov_args)\n",
    "        like_innov = dist_innov.logp(errors)\n",
    "        # like_innov.shape.eval()  # == (T, )\n",
    "        \n",
    "        dist_init = self.dist_init\n",
    "        like_init = dist_init.logp(t_init)  # == (n_lag_endog, n_endog)?\n",
    "        # like_init.shape.eval()  # == (n_lag_endog, n_endog) ?\n",
    "        \n",
    "        like_total = tt.sum(like_init) + tt.sum(like_innov)\n",
    "        # like_total.shape.eval()  # == tuple()\n",
    "        \n",
    "        return like_total"
   ]
  },
  {
   "cell_type": "code",
   "execution_count": 19,
   "metadata": {},
   "outputs": [],
   "source": [
    "# VAR.dist(n_endog=n_endog, n_lag_endog=n_lag_endog).logp(data['output'].values)"
   ]
  },
  {
   "cell_type": "code",
   "execution_count": null,
   "metadata": {},
   "outputs": [],
   "source": []
  },
  {
   "cell_type": "markdown",
   "metadata": {},
   "source": [
    "## Test in model"
   ]
  },
  {
   "cell_type": "code",
   "execution_count": 20,
   "metadata": {},
   "outputs": [],
   "source": [
    "import warnings\n",
    "\n",
    "warnings.simplefilter('ignore', FutureWarning)"
   ]
  },
  {
   "cell_type": "code",
   "execution_count": 21,
   "metadata": {},
   "outputs": [
    {
     "data": {
      "image/svg+xml": [
       "<?xml version=\"1.0\" encoding=\"UTF-8\" standalone=\"no\"?>\n",
       "<!DOCTYPE svg PUBLIC \"-//W3C//DTD SVG 1.1//EN\"\n",
       " \"http://www.w3.org/Graphics/SVG/1.1/DTD/svg11.dtd\">\n",
       "<!-- Generated by graphviz version 2.38.0 (20140413.2041)\n",
       " -->\n",
       "<!-- Title: %3 Pages: 1 -->\n",
       "<svg width=\"410pt\" height=\"257pt\"\n",
       " viewBox=\"0.00 0.00 410.00 257.00\" xmlns=\"http://www.w3.org/2000/svg\" xmlns:xlink=\"http://www.w3.org/1999/xlink\">\n",
       "<g id=\"graph0\" class=\"graph\" transform=\"scale(1 1) rotate(0) translate(4 253)\">\n",
       "<title>%3</title>\n",
       "<polygon fill=\"white\" stroke=\"none\" points=\"-4,4 -4,-253 406,-253 406,4 -4,4\"/>\n",
       "<g id=\"clust1\" class=\"cluster\"><title>cluster3</title>\n",
       "<path fill=\"none\" stroke=\"black\" d=\"M58,-166C58,-166 316,-166 316,-166 322,-166 328,-172 328,-178 328,-178 328,-229 328,-229 328,-235 322,-241 316,-241 316,-241 58,-241 58,-241 52,-241 46,-235 46,-229 46,-229 46,-178 46,-178 46,-172 52,-166 58,-166\"/>\n",
       "<text text-anchor=\"middle\" x=\"316\" y=\"-173.8\" font-family=\"Times,serif\" font-size=\"14.00\">3</text>\n",
       "</g>\n",
       "<g id=\"clust2\" class=\"cluster\"><title>cluster2 x 2</title>\n",
       "<path fill=\"none\" stroke=\"black\" d=\"M20,-83C20,-83 170,-83 170,-83 176,-83 182,-89 182,-95 182,-95 182,-146 182,-146 182,-152 176,-158 170,-158 170,-158 20,-158 20,-158 14,-158 8,-152 8,-146 8,-146 8,-95 8,-95 8,-89 14,-83 20,-83\"/>\n",
       "<text text-anchor=\"middle\" x=\"155\" y=\"-90.8\" font-family=\"Times,serif\" font-size=\"14.00\">2 x 2</text>\n",
       "</g>\n",
       "<g id=\"clust3\" class=\"cluster\"><title>cluster100 x 2</title>\n",
       "<path fill=\"none\" stroke=\"black\" d=\"M202,-8C202,-8 382,-8 382,-8 388,-8 394,-14 394,-20 394,-20 394,-146 394,-146 394,-152 388,-158 382,-158 382,-158 202,-158 202,-158 196,-158 190,-152 190,-146 190,-146 190,-20 190,-20 190,-14 196,-8 202,-8\"/>\n",
       "<text text-anchor=\"middle\" x=\"359.5\" y=\"-15.8\" font-family=\"Times,serif\" font-size=\"14.00\">100 x 2</text>\n",
       "</g>\n",
       "<!-- chol_cov -->\n",
       "<g id=\"node1\" class=\"node\"><title>chol_cov</title>\n",
       "<ellipse fill=\"none\" stroke=\"black\" cx=\"187\" cy=\"-215\" rx=\"132.677\" ry=\"18\"/>\n",
       "<text text-anchor=\"middle\" x=\"187\" y=\"-211.3\" font-family=\"Times,serif\" font-size=\"14.00\">chol_cov ~ LKJCholeskyCov</text>\n",
       "</g>\n",
       "<!-- cov -->\n",
       "<g id=\"node2\" class=\"node\"><title>cov</title>\n",
       "<polygon fill=\"none\" stroke=\"black\" points=\"174.5,-150 15.5,-150 15.5,-114 174.5,-114 174.5,-150\"/>\n",
       "<text text-anchor=\"middle\" x=\"95\" y=\"-128.3\" font-family=\"Times,serif\" font-size=\"14.00\">cov ~ Deterministic</text>\n",
       "</g>\n",
       "<!-- chol_cov&#45;&gt;cov -->\n",
       "<g id=\"edge1\" class=\"edge\"><title>chol_cov&#45;&gt;cov</title>\n",
       "<path fill=\"none\" stroke=\"black\" d=\"M167.489,-196.822C154.316,-185.224 136.746,-169.755 122.203,-156.951\"/>\n",
       "<polygon fill=\"black\" stroke=\"black\" points=\"124.301,-154.134 114.483,-150.153 119.675,-159.388 124.301,-154.134\"/>\n",
       "</g>\n",
       "<!-- var_process -->\n",
       "<g id=\"node3\" class=\"node\"><title>var_process</title>\n",
       "<ellipse fill=\"lightgrey\" stroke=\"black\" cx=\"292\" cy=\"-132\" rx=\"93.6835\" ry=\"18\"/>\n",
       "<text text-anchor=\"middle\" x=\"292\" y=\"-128.3\" font-family=\"Times,serif\" font-size=\"14.00\">var_process ~ VAR</text>\n",
       "</g>\n",
       "<!-- chol_cov&#45;&gt;var_process -->\n",
       "<g id=\"edge3\" class=\"edge\"><title>chol_cov&#45;&gt;var_process</title>\n",
       "<path fill=\"none\" stroke=\"black\" d=\"M208.756,-197.217C224.243,-185.27 245.24,-169.072 262.271,-155.934\"/>\n",
       "<polygon fill=\"black\" stroke=\"black\" points=\"264.492,-158.641 270.272,-149.762 260.216,-153.099 264.492,-158.641\"/>\n",
       "</g>\n",
       "<!-- obs -->\n",
       "<g id=\"node4\" class=\"node\"><title>obs</title>\n",
       "<path fill=\"lightgrey\" stroke=\"black\" d=\"M326,-75C326,-75 258,-75 258,-75 252,-75 246,-69 246,-63 246,-63 246,-51 246,-51 246,-45 252,-39 258,-39 258,-39 326,-39 326,-39 332,-39 338,-45 338,-51 338,-51 338,-63 338,-63 338,-69 332,-75 326,-75\"/>\n",
       "<text text-anchor=\"middle\" x=\"292\" y=\"-53.3\" font-family=\"Times,serif\" font-size=\"14.00\">obs ~ Data</text>\n",
       "</g>\n",
       "<!-- var_process&#45;&gt;obs -->\n",
       "<g id=\"edge2\" class=\"edge\"><title>var_process&#45;&gt;obs</title>\n",
       "<path fill=\"none\" stroke=\"black\" d=\"M292,-113.7C292,-105.245 292,-94.8688 292,-85.3732\"/>\n",
       "<polygon fill=\"black\" stroke=\"black\" points=\"295.5,-85.1758 292,-75.1758 288.5,-85.1758 295.5,-85.1758\"/>\n",
       "</g>\n",
       "</g>\n",
       "</svg>\n"
      ],
      "text/plain": [
       "<graphviz.dot.Digraph at 0x7fe61cb7b190>"
      ]
     },
     "execution_count": 21,
     "metadata": {},
     "output_type": "execute_result"
    }
   ],
   "source": [
    "with pm.Model() as m:\n",
    "    sd_dist = pm.HalfCauchy.dist(beta=2.5)\n",
    "    packed_chol = pm.LKJCholeskyCov('chol_cov', eta=2, n=n_endog, sd_dist=sd_dist)\n",
    "    chol = pm.expand_packed_triangular(n_endog, packed_chol, lower=True)\n",
    "    \n",
    "    cov = pm.Deterministic('cov', tt.dot(chol, chol.T))\n",
    "    \n",
    "    obs = pm.Data('obs', data['output'].values)\n",
    "    var = VAR('var_process', n_endog=n_endog, n_lag_endog=n_lag_endog, chol=chol, observed=m['obs'])\n",
    "    \n",
    "pm.model_to_graphviz(m)"
   ]
  },
  {
   "cell_type": "code",
   "execution_count": 22,
   "metadata": {},
   "outputs": [
    {
     "name": "stderr",
     "output_type": "stream",
     "text": [
      "Auto-assigning NUTS sampler...\n",
      "Initializing NUTS using jitter+adapt_diag...\n",
      "Multiprocess sampling (2 chains in 4 jobs)\n",
      "NUTS: [chol_cov]\n",
      "Sampling 2 chains, 0 divergences: 100%|██████████| 6000/6000 [00:41<00:00, 144.36draws/s]\n"
     ]
    }
   ],
   "source": [
    "with m:\n",
    "    trace = pm.sample(draws=1000, tune=2000, chains=2)"
   ]
  },
  {
   "cell_type": "code",
   "execution_count": 23,
   "metadata": {},
   "outputs": [],
   "source": [
    "ifd = az.from_pymc3(trace=trace)"
   ]
  },
  {
   "cell_type": "code",
   "execution_count": 24,
   "metadata": {},
   "outputs": [
    {
     "data": {
      "image/png": "[encoded data removed]",
      "text/plain": [
       "<Figure size 864x288 with 4 Axes>"
      ]
     },
     "metadata": {
      "needs_background": "light"
     },
     "output_type": "display_data"
    }
   ],
   "source": [
    "pm.traceplot(trace);"
   ]
  },
  {
   "cell_type": "code",
   "execution_count": null,
   "metadata": {},
   "outputs": [],
   "source": []
  },
  {
   "cell_type": "code",
   "execution_count": 25,
   "metadata": {},
   "outputs": [
    {
     "data": {
      "text/plain": [
       "array([[0.44949738, 0.52371741],\n",
       "       [0.52371741, 1.23347546]])"
      ]
     },
     "execution_count": 25,
     "metadata": {},
     "output_type": "execute_result"
    }
   ],
   "source": [
    "# Estimated covariance matrix\n",
    "ifd.posterior['cov'].mean(dim=['chain', 'draw']).values"
   ]
  },
  {
   "cell_type": "code",
   "execution_count": 26,
   "metadata": {},
   "outputs": [
    {
     "data": {
      "text/plain": [
       "array([[0.44907005, 0.69867505],\n",
       "       [0.69867505, 1.29660816]])"
      ]
     },
     "execution_count": 26,
     "metadata": {},
     "output_type": "execute_result"
    }
   ],
   "source": [
    "# Actual covariance matrix\n",
    "vg.coef_covariance.values"
   ]
  },
  {
   "cell_type": "code",
   "execution_count": null,
   "metadata": {},
   "outputs": [],
   "source": []
  }
 ],
 "metadata": {
  "kernelspec": {
   "display_name": "Python 3",
   "language": "python",
   "name": "python3"
  },
  "language_info": {
   "codemirror_mode": {
    "name": "ipython",
    "version": 3
   },
   "file_extension": ".py",
   "mimetype": "text/x-python",
   "name": "python",
   "nbconvert_exporter": "python",
   "pygments_lexer": "ipython3",
   "version": "3.8.2"
  },
  "toc": {
   "base_numbering": 1,
   "nav_menu": {},
   "number_sections": true,
   "sideBar": true,
   "skip_h1_title": false,
   "title_cell": "Table of Contents",
   "title_sidebar": "Contents",
   "toc_cell": false,
   "toc_position": {},
   "toc_section_display": true,
   "toc_window_display": false
  }
 },
 "nbformat": 4,
 "nbformat_minor": 4
}
