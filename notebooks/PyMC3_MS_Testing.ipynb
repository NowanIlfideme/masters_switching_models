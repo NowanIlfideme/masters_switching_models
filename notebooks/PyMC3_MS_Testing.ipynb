{
 "cells": [
  {
   "cell_type": "markdown",
   "metadata": {},
   "source": [
    "# Regime-Switching testing"
   ]
  },
  {
   "cell_type": "markdown",
   "metadata": {},
   "source": [
    "Example taken & modified from: https://sidravi1.github.io/blog/2019/01/25/heirarchical-hidden-markov-model"
   ]
  },
  {
   "cell_type": "code",
   "execution_count": 1,
   "metadata": {},
   "outputs": [],
   "source": [
    "import numpy as np\n",
    "import pandas as pd\n",
    "import xarray as xr"
   ]
  },
  {
   "cell_type": "code",
   "execution_count": 2,
   "metadata": {},
   "outputs": [],
   "source": [
    "import pymc3 as pm\n",
    "import theano.tensor as tt"
   ]
  },
  {
   "cell_type": "code",
   "execution_count": 3,
   "metadata": {},
   "outputs": [],
   "source": [
    "import matplotlib.pyplot as plt\n",
    "import arviz as az"
   ]
  },
  {
   "cell_type": "code",
   "execution_count": 4,
   "metadata": {},
   "outputs": [],
   "source": [
    "import pymc3.distributions.transforms as tr"
   ]
  },
  {
   "cell_type": "markdown",
   "metadata": {},
   "source": [
    "# Generate samples"
   ]
  },
  {
   "cell_type": "code",
   "execution_count": 5,
   "metadata": {},
   "outputs": [],
   "source": [
    "class SampleGenerator:\n",
    "    \"\"\" Generate simulated data \"\"\"\n",
    "\n",
    "    PROCESSES = ['poisson']\n",
    "\n",
    "    def __init__(self, process, params, n_state, transition_mat):\n",
    "      \n",
    "        if (len(params) != n_state):\n",
    "            raise ValueError(\"params count: {} is not equal to n_state: {}\".format(len(params), n_state))\n",
    "        \n",
    "        if (transition_mat.shape[0] != n_state) or (transition_mat.shape[0] != transition_mat.shape[1]):\n",
    "            raise ValueError(\"`transition_mat` is not square or not equal to `n_state`\")\n",
    "\n",
    "        if not np.isclose(transition_mat.sum(axis=1), 1).all():\n",
    "            raise ValueError(\"`transition_mat` rows should add to 1\")\n",
    "\n",
    "        if process not in self.PROCESSES:\n",
    "            raise NotImplementedError(\"`process` type of {} is not implemented\".format(process))\n",
    "        \n",
    "        self.process_type = process\n",
    "        self.process_params = params\n",
    "        self.n_state = n_state\n",
    "        self.transition_mat = transition_mat\n",
    "\n",
    "    def __validate_inputs(self, n_samples, init_state):\n",
    "        \n",
    "        if init_state >= self.n_state:\n",
    "            raise ValueError(\"`init_state` is greater than `n_state`:{}\".format(init_state))\n",
    "\n",
    "    def __getsample(self, params):\n",
    "\n",
    "        if self.process_type == 'poisson':\n",
    "            sample = np.random.poisson(params['lambda'])\n",
    "        else:\n",
    "            raise NotImplementedError(\"Process type not implemented\")\n",
    "\n",
    "        return sample\n",
    "\n",
    "    def generate_samples(self, n_samples, seed = 42, init_state = 0, transition_distribution = 'uniform'):\n",
    "\n",
    "        self.__validate_inputs(n_samples, init_state)\n",
    "\n",
    "        curr_state = init_state\n",
    "        state_history = []\n",
    "        all_samples = []\n",
    "\n",
    "        for sample_id in range(n_samples):\n",
    "            \n",
    "            all_samples.append(self.__getsample(self.process_params[curr_state]))\n",
    "            state_history.append(curr_state)\n",
    "\n",
    "            # do i switch?\n",
    "            transition_probs = self.transition_mat[curr_state]\n",
    "            draw = np.random.uniform()\n",
    "            highs = transition_probs.cumsum()\n",
    "            lows = np.roll(highs, shift=1)\n",
    "            lows[0] = 0\n",
    "            for i, (low, high) in enumerate(zip(lows, highs)):\n",
    "                if (draw >= low) and (draw < high):\n",
    "                    curr_state = i\n",
    "                    break\n",
    "        \n",
    "        return np.array(all_samples), np.array(state_history)\n",
    "\n"
   ]
  },
  {
   "cell_type": "code",
   "execution_count": 6,
   "metadata": {},
   "outputs": [],
   "source": [
    "sg = SampleGenerator(\"poisson\", [{'lambda':5}, {'lambda': 10}], 2, \n",
    "                     np.array([[0.8, 0.2],[0.2, 0.8]]))\n",
    "\n",
    "vals_simple, states_orig_simple = sg.generate_samples(100)"
   ]
  },
  {
   "cell_type": "code",
   "execution_count": 7,
   "metadata": {},
   "outputs": [],
   "source": [
    "df_simple = pd.DataFrame({'vals':vals_simple, 'states':states_orig_simple}).reset_index()"
   ]
  },
  {
   "cell_type": "markdown",
   "metadata": {},
   "source": [
    "# Define custom PyMC3 classes"
   ]
  },
  {
   "cell_type": "code",
   "execution_count": 8,
   "metadata": {},
   "outputs": [],
   "source": [
    "class StateTransitions(pm.Categorical):\n",
    "    '''\n",
    "    Distribution of state\n",
    "    '''\n",
    "    def __init__(self, trans_prob=None, init_prob=None, * args, ** kwargs):\n",
    "        \n",
    "        super(pm.Categorical, self).__init__(* args, ** kwargs)\n",
    "        \n",
    "        self.trans_prob = trans_prob\n",
    "        self.init_prob = init_prob\n",
    "        \n",
    "        # Housekeeping\n",
    "        self.mode = tt.cast(0,dtype='int64')\n",
    "        self.k = 2\n",
    "        \n",
    "    def logp(self, x):\n",
    "        \n",
    "        trans_prob = self.trans_prob\n",
    "        \n",
    "        p = trans_prob[x[:-1]] # probability of transitioning based on previous state\n",
    "        x_i = x[1:]            # the state you end up in\n",
    "        \n",
    "        log_p = pm.Categorical.dist(p, shape=(self.shape[0],2)).logp_sum(x_i)\n",
    "        \n",
    "        return pm.Categorical.dist(self.init_prob).logp(x[0]) + log_p"
   ]
  },
  {
   "cell_type": "code",
   "execution_count": 9,
   "metadata": {},
   "outputs": [],
   "source": [
    "class PoissionProcess(pm.Discrete):\n",
    "    \n",
    "    def __init__(self, state=None, lambdas=None, *args, **kwargs):\n",
    "        \n",
    "        super(PoissionProcess, self).__init__(*args, **kwargs)\n",
    "        \n",
    "        self.state = state\n",
    "        self.lambdas = lambdas\n",
    "\n",
    "        # Housekeeping\n",
    "        self.mode = tt.cast(1,dtype='int64')\n",
    "    \n",
    "    def logp(self, x):\n",
    "        \n",
    "        lambd = self.lambdas[self.state]\n",
    "        llike = pm.Poisson.dist(lambd).logp_sum(x)\n",
    "            \n",
    "        return llike"
   ]
  },
  {
   "cell_type": "markdown",
   "metadata": {},
   "source": [
    "# PyMC3 Model"
   ]
  },
  {
   "cell_type": "markdown",
   "metadata": {},
   "source": [
    "## Define"
   ]
  },
  {
   "cell_type": "code",
   "execution_count": null,
   "metadata": {},
   "outputs": [],
   "source": [
    "chain_tran = tr.Chain([tr.ordered])\n",
    "\n",
    "with pm.Model() as m:\n",
    "    \n",
    "    lambdas = pm.Gamma('lam0', mu = 10, sd = 100, shape = 2, transform=chain_tran,  testval=np.asarray([1., 1.5]))\n",
    "    \n",
    "    init_probs = pm.Dirichlet('init_probs', a = tt.ones(2), shape=2)\n",
    "    state_trans = pm.Dirichlet('state_trans', a = tt.ones(2), shape=(2,2))\n",
    "    \n",
    "    states = StateTransitions('states', state_trans, init_probs, shape=len(vals_simple))\n",
    "    \n",
    "    y = PoissionProcess('output', states, lambdas, observed=vals_simple)"
   ]
  },
  {
   "cell_type": "code",
   "execution_count": null,
   "metadata": {},
   "outputs": [],
   "source": [
    "pm.model_to_graphviz(m)"
   ]
  },
  {
   "cell_type": "markdown",
   "metadata": {},
   "source": [
    "## Fit"
   ]
  },
  {
   "cell_type": "code",
   "execution_count": null,
   "metadata": {},
   "outputs": [],
   "source": [
    "with m:\n",
    "    trace = pm.sample(draws=1000, tune=2000, chains=1, cores=1)"
   ]
  },
  {
   "cell_type": "code",
   "execution_count": null,
   "metadata": {},
   "outputs": [],
   "source": [
    "# with m:\n",
    "#     ppc = pm.sample_posterior_predictive(trace)"
   ]
  },
  {
   "cell_type": "code",
   "execution_count": null,
   "metadata": {},
   "outputs": [],
   "source": [
    "_state = [0, 1]\n",
    "_obs = list(range(100))\n",
    "\n",
    "ifd = az.from_pymc3(\n",
    "    trace=trace,\n",
    "    # posterior_predictive=ppc,\n",
    "    dims={\n",
    "        'states': ['OBS'], \n",
    "        'output': ['OBS'],\n",
    "        'lam0': ['STATE'], \n",
    "        'init_probs': ['STATE'],\n",
    "        'state_trans': ['STATE', \"AUX_STATE\"]\n",
    "    }, \n",
    "    coords={'STATE': _state, \"AUX_STATE\": _state}\n",
    ")\n",
    "ifd"
   ]
  },
  {
   "cell_type": "markdown",
   "metadata": {},
   "source": [
    "## Check traces"
   ]
  },
  {
   "cell_type": "code",
   "execution_count": null,
   "metadata": {},
   "outputs": [],
   "source": [
    "az.plot_trace(ifd, compact=True);"
   ]
  },
  {
   "cell_type": "markdown",
   "metadata": {},
   "source": [
    "# Model testing"
   ]
  },
  {
   "cell_type": "markdown",
   "metadata": {},
   "source": [
    "## Posterior values"
   ]
  },
  {
   "cell_type": "code",
   "execution_count": null,
   "metadata": {},
   "outputs": [],
   "source": [
    "ifd.posterior['state_trans'].mean(dim=['chain', 'draw']).values"
   ]
  },
  {
   "cell_type": "code",
   "execution_count": null,
   "metadata": {},
   "outputs": [],
   "source": [
    "ifd.posterior['lam0'].mean(dim=['chain', 'draw']).values"
   ]
  },
  {
   "cell_type": "markdown",
   "metadata": {},
   "source": [
    "Posterior predictions for the process don't work, because PoissonProcess doesn't define `random()` and so pm sampling just takes the data values."
   ]
  },
  {
   "cell_type": "markdown",
   "metadata": {},
   "source": [
    "## Model fit"
   ]
  },
  {
   "cell_type": "code",
   "execution_count": null,
   "metadata": {},
   "outputs": [],
   "source": [
    "# HDI doesn't work\n",
    "# az.hdi(ifd.posterior['states'], hdi_prob=0.5)  # .set_index(hdi=['lower', 'upper'])"
   ]
  },
  {
   "cell_type": "code",
   "execution_count": null,
   "metadata": {},
   "outputs": [],
   "source": []
  },
  {
   "cell_type": "code",
   "execution_count": null,
   "metadata": {},
   "outputs": [],
   "source": [
    "fig, ax = plt.subplots(2, 1, figsize=(18, 9), gridspec_kw={'height_ratios': [2, 1]})\n",
    "\n",
    "# \n",
    "df_simple['vals'].plot.line(ax=ax[0], color='C0', label='actual')\n",
    "# TODO: Get range for process\n",
    "ax[0].set_title(\"Modelled Process\")\n",
    "ax[0].legend()\n",
    "\n",
    "df_simple['states'].plot.line(ax=ax[1], color='C0', label='actual')\n",
    "ax[1].plot(\n",
    "    ifd.posterior['states'].mean(dim=['chain', 'draw']).values,\n",
    "    color='C1', label='posterior'\n",
    ")\n",
    "# TODO: \n",
    "ax[1].set_title(\"States\")\n",
    "ax[1].legend()\n",
    "fig;"
   ]
  },
  {
   "cell_type": "code",
   "execution_count": null,
   "metadata": {},
   "outputs": [],
   "source": []
  },
  {
   "cell_type": "code",
   "execution_count": null,
   "metadata": {},
   "outputs": [],
   "source": []
  }
 ],
 "metadata": {
  "kernelspec": {
   "display_name": "Python 3",
   "language": "python",
   "name": "python3"
  },
  "language_info": {
   "codemirror_mode": {
    "name": "ipython",
    "version": 3
   },
   "file_extension": ".py",
   "mimetype": "text/x-python",
   "name": "python",
   "nbconvert_exporter": "python",
   "pygments_lexer": "ipython3",
   "version": "3.8.2"
  },
  "toc": {
   "base_numbering": 1,
   "nav_menu": {},
   "number_sections": true,
   "sideBar": true,
   "skip_h1_title": false,
   "title_cell": "Table of Contents",
   "title_sidebar": "Contents",
   "toc_cell": false,
   "toc_position": {},
   "toc_section_display": true,
   "toc_window_display": false
  }
 },
 "nbformat": 4,
 "nbformat_minor": 4
}
